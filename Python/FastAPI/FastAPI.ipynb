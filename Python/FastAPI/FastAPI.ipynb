{
 "cells": [
  {
   "cell_type": "markdown",
   "id": "c51fad85-5ba6-432a-b7cd-e62cd4baa04f",
   "metadata": {},
   "source": [
    "# Testing"
   ]
  },
  {
   "cell_type": "markdown",
   "id": "433281ab-edef-4fe4-8993-630f81ad144d",
   "metadata": {},
   "source": [
    "In this link, https://fastapi.tiangolo.com/tutorial/testing, you may have noticed \"X-token\" in the following paragraph:"
   ]
  },
  {
   "cell_type": "markdown",
   "id": "3665622a-aa80-4e91-a54b-fdc7d8c50a73",
   "metadata": {},
   "source": [
    "```\n",
    "Let's say that now the file main.py with your FastAPI app has some other path operations.\n",
    "\n",
    "It has a GET operation that could return an error.\n",
    "\n",
    "It has a POST operation that could return several errors.\n",
    "\n",
    "Both path operations require an X-Token header.\n",
    "```"
   ]
  },
  {
   "cell_type": "markdown",
   "id": "2fa676ed-4e83-4299-b42d-4445dbea760c",
   "metadata": {},
   "source": [
    "My understanding of this is *assume* you have a FastAPI app that has e.g. a GET operator or a POST operation that requires *some* token in the header - \"X-token\" is just a way of saying some token that you may require in every HTTP request. See the subsection \"PasswordBearer\" in the section \"Security\" for an example of one of these tokens."
   ]
  },
  {
   "cell_type": "markdown",
   "id": "f6b94cf9-4ce7-4068-a3e7-05264a5c496d",
   "metadata": {},
   "source": [
    "# Security"
   ]
  },
  {
   "cell_type": "markdown",
   "id": "338e6b40-491a-4ea2-9b11-0bad3f2f3e3a",
   "metadata": {},
   "source": [
    "## PasswordBearer"
   ]
  },
  {
   "cell_type": "markdown",
   "id": "e521c7bd-3713-4194-a867-40ec904e2f36",
   "metadata": {},
   "source": [
    "(Understanding the following link: https://fastapi.tiangolo.com/tutorial/security/first-steps/#__tabbed_1_2)"
   ]
  },
  {
   "cell_type": "markdown",
   "id": "81e2d7bf-36ca-4aa2-9258-cdfb00756c7a",
   "metadata": {},
   "source": [
    "As a user on the front end (web browser) visiting an endpoint which contains authorisation, you will:\n",
    "- Enter your username and password and press enter.\n",
    "- This will send your username and password to a particular endpoint. That endpoint is specified in the code:\n",
    "oauth2_scheme = OAuth2PasswordBearer(tokenUrl=\"token\")  \n",
    "The endpoint is “token” == “./token”, a relative URL. So, if your API is at https://example.com/api/v1/, your username and password will be sent to https://example.com/api/v1/token.  \n",
    "That endpoint will respond with a token which is just a string e.g. “mysecrettoken”. This is stored in the browser temporarily.  \n",
    "Note that this `tokenUrl=”token”` doesn’t create that endpoint, it just declares where the client should go to get the token.\n",
    "-\tNow, let’s say the user visits another part of the frontend which requires more data from the API and authentication. \n",
    "To authenticate with our API, the request made will contain a header called “Authorisation” with a value of “Bearer” + the token -> “Bearer mysecrettoken”\n"
   ]
  },
  {
   "cell_type": "markdown",
   "id": "a0578934-28cf-49ce-9c69-872a49ef19c6",
   "metadata": {},
   "source": [
    "## Dependencies and Dependency Injection"
   ]
  },
  {
   "cell_type": "markdown",
   "id": "be70af6c-98e3-44cb-b7e1-13f12d6fdd58",
   "metadata": {},
   "source": [
    "I am following the tutorials in this playlist: https://www.youtube.com/watch?v=Kq7ezzVInCA"
   ]
  },
  {
   "cell_type": "markdown",
   "id": "0cc2db4f-a389-4eb6-87a7-e95b4242a3f8",
   "metadata": {},
   "source": [
    "Take a look at the following code that implements pagination to two endpoints:"
   ]
  },
  {
   "cell_type": "code",
   "execution_count": 7,
   "id": "c8fcdc2e-49be-47b1-a9f4-4c4046106a9b",
   "metadata": {},
   "outputs": [],
   "source": [
    "from fastapi import Depends, FastAPI\n",
    "from typing import Union\n",
    "\n",
    "app = FastAPI()\n",
    "\n",
    "@app.get(\"/items/\")\n",
    "def read_items(q: Union[str, None] = None, skip: int = 0, limit: int = 100):\n",
    "    return {\"q\": q, \"skip\": skip, \"limit\": limit}\n",
    "\n",
    "@app.get(\"/users/\")\n",
    "def read_items(q: Union[str, None] = None, skip: int = 0, limit: int = 100):\n",
    "    return {\"q\": q, \"skip\": skip, \"limit\": limit}"
   ]
  },
  {
   "cell_type": "markdown",
   "id": "bdeb24ab-e84b-4a3f-8a3e-4520e843224e",
   "metadata": {},
   "source": [
    "As you can see, we are repeating ourselves quite a bit here with those arguments. Wouldn't it be better if we could factor it out? Here's how:"
   ]
  },
  {
   "cell_type": "code",
   "execution_count": 9,
   "id": "c57d5c77-fac4-4240-90ab-8168d8db0983",
   "metadata": {},
   "outputs": [],
   "source": [
    "from fastapi import Depends, FastAPI\n",
    "from typing import Union\n",
    "\n",
    "app = FastAPI()\n",
    "\n",
    "def common_parameters(q: Union[str, None] = None, skip: int = 0, limit: int = 100):\n",
    "    return {\"q\": q, \"skip\": skip, \"limit\": limit}\n",
    "\n",
    "@app.get(\"/items/\")\n",
    "async def read_items(commons: dict = Depends(common_parameters)):\n",
    "    return commons\n",
    "\n",
    "@app.get(\"/users/\")\n",
    "def read_items(commons: dict = Depends(common_parameters)):\n",
    "    return commons"
   ]
  },
  {
   "cell_type": "markdown",
   "id": "50c3a622-3073-4840-b006-8dd1287ea189",
   "metadata": {},
   "source": [
    "The two above are identical, but the approach using `Depends` is much cleaner. `Depends` takes a callable and calls it. Then, it returns whatever the callable returns to the parameter that it's pointing to."
   ]
  },
  {
   "cell_type": "markdown",
   "id": "811ba18f-2b97-48a8-b444-490e686fe152",
   "metadata": {},
   "source": [
    "Run main.py in the fastapi_bench folder to confirm it works."
   ]
  },
  {
   "cell_type": "markdown",
   "id": "58fee3be-da24-4add-81e6-c50a51597d32",
   "metadata": {},
   "source": [
    "### Nesting Dependencies"
   ]
  },
  {
   "cell_type": "markdown",
   "id": "39cdba31-e0b0-42ba-8b47-84dec4115dab",
   "metadata": {},
   "source": [
    "As mentioned right before, `Depends` takes a callable and calls it. The callable can contain `Depends` too, which will be called as well."
   ]
  },
  {
   "cell_type": "code",
   "execution_count": 7,
   "id": "4287f123-2cb4-4265-9df7-171a6160ffbb",
   "metadata": {},
   "outputs": [],
   "source": [
    "def hello():\n",
    "    return \"world\"\n",
    "\n",
    "def common_parameters_3(\n",
    "    q: Union[str, None] = None,\n",
    "    skip: int = 0,\n",
    "    limit: int = 100,\n",
    "    blah: str = Depends(hello),\n",
    "):\n",
    "    return {\"q\": q, \"skip\": skip, \"limit\": limit, \"hello\": blah}\n",
    "\n",
    "@app.get(\"/users_3/\")\n",
    "def read_users_3(commons: dict = Depends(common_parameters_3)):\n",
    "    return commons"
   ]
  },
  {
   "cell_type": "markdown",
   "id": "c4b59ee8-d31b-44c7-8f43-d9852383447e",
   "metadata": {},
   "source": [
    "As you can see, we will expect `common_parameters_3` to be called, which contains a `Depends(hello)` so `hello()` is called and returns `\"world\"`. This string is stored in `blah` which is then returned as part of `common_3_parameters`. See the output of the request below:"
   ]
  },
  {
   "cell_type": "markdown",
   "id": "8dadf204-4c2d-41b4-92b4-1e3960a0a9d3",
   "metadata": {},
   "source": [
    "```python\n",
    "{\n",
    "  \"q\": null,\n",
    "  \"skip\": 0,\n",
    "  \"limit\": 100,\n",
    "  \"hello\": \"world\"\n",
    "}\n",
    "```"
   ]
  },
  {
   "cell_type": "markdown",
   "id": "b908a6d9-a10d-408b-a8db-135a068eccc3",
   "metadata": {},
   "source": [
    "### Classes as Dependencies"
   ]
  },
  {
   "cell_type": "markdown",
   "id": "c459ac9e-048d-43d8-9283-bacea028f33c",
   "metadata": {},
   "source": [
    "Take a look at this example (https://www.youtube.com/watch?v=jJDzJg3O9ZQ):"
   ]
  },
  {
   "cell_type": "code",
   "execution_count": 8,
   "id": "5635618d-a789-4132-9a85-e864b3452bfa",
   "metadata": {},
   "outputs": [],
   "source": [
    "fake_items_db = [{\"item_name\": \"Foo\"}, {\"item_name\": \"Bar\"}, {\"item_name\": \"Baz\"}]\n",
    "\n",
    "\n",
    "class CommonQueryParams:\n",
    "    def __init__(\n",
    "        self,\n",
    "        item_id: int,\n",
    "        q: Union[str, None] = None,\n",
    "        skip: int = 0,\n",
    "        limit: int = 100\n",
    "    ):\n",
    "        self.q = q\n",
    "        self.skip = skip\n",
    "        self.limit = limit\n",
    "        self.item_id = item_id\n",
    "\n",
    "\n",
    "@app.get(\"/items_4/{item_id}\")\n",
    "def read_items(commons: CommonQueryParams = Depends(CommonQueryParams)):\n",
    "    response = {}\n",
    "    print(commons.item_id)\n",
    "    if commons.q:\n",
    "        response.update({\"q\": commons.q})\n",
    "    items = fake_items_db[commons.skip:commons.skip + commons.limit]\n",
    "    response.update({\"items\": items})\n",
    "    return response\n"
   ]
  },
  {
   "cell_type": "markdown",
   "id": "e338587e-3224-462c-a85c-ce266c3ad38f",
   "metadata": {},
   "source": [
    "Here's what happens step-by-step when we make the following GET request: http://localhost:8000/items_4/123?skip=1&limit=3\n",
    "\n",
    "1. FastAPI identifies that a request to `/users_4/` was made with a number of query parameters.\n",
    "2. It is about to execute the associated function `read_items` before it realises that `commons`'s default value is a dependency.\n",
    "3. FastAPI looks at the dependency (`CommonQueryParams`) to see what function parameters it expects.\n",
    "4. In our example, it expects `item_id`, `q`, `skip` and `limit`, though most of these have default values.\n",
    "5. When FastAPI executes `CommonQueryParams`, it knows which query parameters it needs, so it extracts these from the query parameters in the request and passes them to `CommonQueryParams`\n",
    "6. It also detects that we need `item_id` which is not a query parameter but a *path* parameter and passes that to `CommonQueryParams` too.\n",
    "7. `commons` is now equivalent to that class, which is why we have type-hinted it with `CommonQueryParams`.\n",
    "8. We can access any of this class's attributes like normal."
   ]
  },
  {
   "cell_type": "markdown",
   "id": "34166ade-a219-4bb2-ae3c-110c8040dc00",
   "metadata": {},
   "source": [
    "As a note, FastAPI has numerous shorthands for the following argument of `read_items(commons: CommonQueryParams = Depends(CommonQueryParams))`.\n",
    "\n",
    "Note that all the below are equivalent:\n",
    "- `commons: CommonQueryParams = Depends(CommonQueryParams)`\n",
    "- `commons: CommonQueryParams = Depends()`\n",
    "- `commons=Depends(CommonQueryParams)`\n"
   ]
  },
  {
   "cell_type": "markdown",
   "id": "9f6bfe8e-645d-426c-a9b0-167c942015c0",
   "metadata": {},
   "source": [
    "### `Annotated`"
   ]
  },
  {
   "cell_type": "markdown",
   "id": "34ade4b2-85b1-4590-88fe-54aa8a2783f8",
   "metadata": {},
   "source": [
    "https://fastapi.tiangolo.com/tutorial/query-params-str-validations/"
   ]
  },
  {
   "cell_type": "markdown",
   "id": "74331a54-06fc-4e6a-bb4b-0ae59052bb15",
   "metadata": {},
   "source": [
    "Take a look at this:"
   ]
  },
  {
   "cell_type": "code",
   "execution_count": 3,
   "id": "4a9d7e91-ea09-4462-b313-24e412f08ec5",
   "metadata": {},
   "outputs": [],
   "source": [
    "from fastapi import FastAPI, Depends, Query\n",
    "from typing_extensions import Annotated\n",
    "from typing import Union\n",
    "\n",
    "app = FastAPI()\n",
    "\n",
    "@app.get(\"/others/\")\n",
    "def read_others(q: Annotated[str, Query(min_length=3)]):\n",
    "    results = {\"items\": [{\"item_id\": \"Foo\"}, {\"item_id\": \"Bar\"}]}\n",
    "    if q:\n",
    "        results.update({\"q\": q})\n",
    "    return results"
   ]
  },
  {
   "cell_type": "markdown",
   "id": "fb46753c-7af5-4f68-93f4-0a4849de8515",
   "metadata": {},
   "source": [
    "Looking at `q: Annotated[str, Query(min_length=3)]`, since no default has been specified for `q`, `Query(..)`'s return value will become the default."
   ]
  },
  {
   "cell_type": "code",
   "execution_count": 2,
   "id": "dd060698-a00e-4b25-9694-d9ea35c3445f",
   "metadata": {},
   "outputs": [],
   "source": [
    "from fastapi import FastAPI, Depends, Query\n",
    "from typing_extensions import Annotated\n",
    "from typing import Union\n",
    "\n",
    "app = FastAPI()\n",
    "\n",
    "@app.get(\"/items_2/\")\r\n",
    "def read_items_2(q: Annotated[Union[str, None], Query(max_length=50)] = None):\r\n",
    "    results = {\"items\": [{\"item_id\": \"Foo\"}, {\"item_id\": \"Bar\"}]}\r\n",
    "    if q:\r\n",
    "        results.update({\"q\": q})\r\n",
    "    return results"
   ]
  },
  {
   "cell_type": "markdown",
   "id": "c18719fe-032f-4ad9-854b-ba1902824bb3",
   "metadata": {},
   "source": [
    "If you try `GET`ting a string that's over 50 characters long, you will get a HTTP 422 error. "
   ]
  },
  {
   "cell_type": "markdown",
   "id": "e4bbda55-be13-4f05-b948-30e0bda0fc91",
   "metadata": {},
   "source": [
    "You might be wondering how `Query` actually validates the input. I am not sure, but this is perhaps a simplified way that it does it:"
   ]
  },
  {
   "cell_type": "code",
   "execution_count": null,
   "id": "4f79c671-f4fd-4370-bb5a-bec5e151e1ae",
   "metadata": {},
   "outputs": [],
   "source": [
    "from typing import Optional\n",
    "from fastapi import Request\n",
    "\n",
    "def Query(param_name: str, default: Optional[str] = None, max_length: Optional[int] = None):\n",
    "    def query_parameter(request: Request):\n",
    "        value = request.query_params.get(param_name, default)\n",
    "\n",
    "        if max_length is not None and value is not None and len(value) > max_length:\n",
    "            raise ValueError(f\"Value of '{param_name}' parameter is too long\")\n",
    "        \n",
    "        return value\n",
    "\n",
    "    return query_parameter"
   ]
  },
  {
   "cell_type": "markdown",
   "id": "6d197109-2e15-4d7c-a7ad-c121cd374918",
   "metadata": {},
   "source": [
    "To summarise, it seems that it takes the entire request and gets the value of the parameter associated with `q`."
   ]
  },
  {
   "cell_type": "markdown",
   "id": "8c1e088f-f67a-4682-8b97-ea2eb12fdeb7",
   "metadata": {},
   "source": [
    "It's **very important** to note that the calling and subsequent validating of `q` via `Query` is implemented in FastAPI not `Annotated` or Python itself. To elaborate, the `Annotated` library simply provides metadata to anyone that wants it. It is up to the user (or FastAPI in this case) to do something with that metadata. \n",
    "\n",
    "In our case, FastAPI looks at the HTTP request, e.g. `http://localhost:8000/items_2/?q=somestring`, and finds a query parameter associated with `q`, i.e. `somestring`. \n",
    "\n",
    "Then, it stores this into the `q` parameter of the `read_items_2` function.\n",
    "\n",
    "Then, it checks to see if it has metadata attached to it and recognises immediately that it does.\n",
    "\n",
    "Then, in FastAPI's internal implementation, it will pass `q` to `Query` for validation, but this is all hidden from the developer. All they need to do, is provide the validation function in `Annotated` of `q` and FastAPI will handle the rest."
   ]
  },
  {
   "cell_type": "code",
   "execution_count": null,
   "id": "ad397be8-be1f-4655-8992-c74fa1f702c3",
   "metadata": {},
   "outputs": [],
   "source": []
  }
 ],
 "metadata": {
  "kernelspec": {
   "display_name": "Python 3 (ipykernel)",
   "language": "python",
   "name": "python3"
  },
  "language_info": {
   "codemirror_mode": {
    "name": "ipython",
    "version": 3
   },
   "file_extension": ".py",
   "mimetype": "text/x-python",
   "name": "python",
   "nbconvert_exporter": "python",
   "pygments_lexer": "ipython3",
   "version": "3.10.4"
  }
 },
 "nbformat": 4,
 "nbformat_minor": 5
}
